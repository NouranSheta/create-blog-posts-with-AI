{
  "nbformat": 4,
  "nbformat_minor": 0,
  "metadata": {
    "colab": {
      "name": "AIBlogPost.ipynb",
      "provenance": [],
      "collapsed_sections": []
    },
    "kernelspec": {
      "name": "python3",
      "display_name": "Python 3"
    },
    "language_info": {
      "name": "python"
    },
    "accelerator": "GPU"
  },
  "cells": [
    {
      "cell_type": "markdown",
      "metadata": {
        "id": "rhxT0fvN843f"
      },
      "source": [
        "**0. install and import dependencies**"
      ]
    },
    {
      "cell_type": "code",
      "metadata": {
        "colab": {
          "base_uri": "https://localhost:8080/"
        },
        "id": "nV-NNGXu9AgC",
        "outputId": "43bff59f-9bbb-4ffb-b764-a60a998e8098"
      },
      "source": [
        "!pip install transformers"
      ],
      "execution_count": null,
      "outputs": [
        {
          "output_type": "stream",
          "name": "stdout",
          "text": [
            "Requirement already satisfied: transformers in /usr/local/lib/python3.7/dist-packages (4.10.0)\n",
            "Requirement already satisfied: pyyaml>=5.1 in /usr/local/lib/python3.7/dist-packages (from transformers) (5.4.1)\n",
            "Requirement already satisfied: requests in /usr/local/lib/python3.7/dist-packages (from transformers) (2.23.0)\n",
            "Requirement already satisfied: packaging in /usr/local/lib/python3.7/dist-packages (from transformers) (21.0)\n",
            "Requirement already satisfied: tqdm>=4.27 in /usr/local/lib/python3.7/dist-packages (from transformers) (4.62.0)\n",
            "Requirement already satisfied: importlib-metadata in /usr/local/lib/python3.7/dist-packages (from transformers) (4.6.4)\n",
            "Requirement already satisfied: regex!=2019.12.17 in /usr/local/lib/python3.7/dist-packages (from transformers) (2019.12.20)\n",
            "Requirement already satisfied: tokenizers<0.11,>=0.10.1 in /usr/local/lib/python3.7/dist-packages (from transformers) (0.10.3)\n",
            "Requirement already satisfied: filelock in /usr/local/lib/python3.7/dist-packages (from transformers) (3.0.12)\n",
            "Requirement already satisfied: sacremoses in /usr/local/lib/python3.7/dist-packages (from transformers) (0.0.45)\n",
            "Requirement already satisfied: huggingface-hub>=0.0.12 in /usr/local/lib/python3.7/dist-packages (from transformers) (0.0.16)\n",
            "Requirement already satisfied: numpy>=1.17 in /usr/local/lib/python3.7/dist-packages (from transformers) (1.19.5)\n",
            "Requirement already satisfied: typing-extensions in /usr/local/lib/python3.7/dist-packages (from huggingface-hub>=0.0.12->transformers) (3.7.4.3)\n",
            "Requirement already satisfied: pyparsing>=2.0.2 in /usr/local/lib/python3.7/dist-packages (from packaging->transformers) (2.4.7)\n",
            "Requirement already satisfied: zipp>=0.5 in /usr/local/lib/python3.7/dist-packages (from importlib-metadata->transformers) (3.5.0)\n",
            "Requirement already satisfied: idna<3,>=2.5 in /usr/local/lib/python3.7/dist-packages (from requests->transformers) (2.10)\n",
            "Requirement already satisfied: certifi>=2017.4.17 in /usr/local/lib/python3.7/dist-packages (from requests->transformers) (2021.5.30)\n",
            "Requirement already satisfied: urllib3!=1.25.0,!=1.25.1,<1.26,>=1.21.1 in /usr/local/lib/python3.7/dist-packages (from requests->transformers) (1.24.3)\n",
            "Requirement already satisfied: chardet<4,>=3.0.2 in /usr/local/lib/python3.7/dist-packages (from requests->transformers) (3.0.4)\n",
            "Requirement already satisfied: click in /usr/local/lib/python3.7/dist-packages (from sacremoses->transformers) (7.1.2)\n",
            "Requirement already satisfied: six in /usr/local/lib/python3.7/dist-packages (from sacremoses->transformers) (1.15.0)\n",
            "Requirement already satisfied: joblib in /usr/local/lib/python3.7/dist-packages (from sacremoses->transformers) (1.0.1)\n"
          ]
        }
      ]
    },
    {
      "cell_type": "code",
      "metadata": {
        "colab": {
          "base_uri": "https://localhost:8080/"
        },
        "id": "6oRwTWhW9CzE",
        "outputId": "3a932edc-77ae-451e-b9a8-c3f82b0d9f85"
      },
      "source": [
        "!pip install tensorflow"
      ],
      "execution_count": null,
      "outputs": [
        {
          "output_type": "stream",
          "name": "stdout",
          "text": [
            "Requirement already satisfied: tensorflow in /usr/local/lib/python3.7/dist-packages (2.6.0)\n",
            "Requirement already satisfied: protobuf>=3.9.2 in /usr/local/lib/python3.7/dist-packages (from tensorflow) (3.17.3)\n",
            "Requirement already satisfied: wrapt~=1.12.1 in /usr/local/lib/python3.7/dist-packages (from tensorflow) (1.12.1)\n",
            "Requirement already satisfied: clang~=5.0 in /usr/local/lib/python3.7/dist-packages (from tensorflow) (5.0)\n",
            "Requirement already satisfied: typing-extensions~=3.7.4 in /usr/local/lib/python3.7/dist-packages (from tensorflow) (3.7.4.3)\n",
            "Requirement already satisfied: google-pasta~=0.2 in /usr/local/lib/python3.7/dist-packages (from tensorflow) (0.2.0)\n",
            "Requirement already satisfied: termcolor~=1.1.0 in /usr/local/lib/python3.7/dist-packages (from tensorflow) (1.1.0)\n",
            "Requirement already satisfied: tensorflow-estimator~=2.6 in /usr/local/lib/python3.7/dist-packages (from tensorflow) (2.6.0)\n",
            "Requirement already satisfied: six~=1.15.0 in /usr/local/lib/python3.7/dist-packages (from tensorflow) (1.15.0)\n",
            "Requirement already satisfied: absl-py~=0.10 in /usr/local/lib/python3.7/dist-packages (from tensorflow) (0.12.0)\n",
            "Requirement already satisfied: flatbuffers~=1.12.0 in /usr/local/lib/python3.7/dist-packages (from tensorflow) (1.12)\n",
            "Requirement already satisfied: keras~=2.6 in /usr/local/lib/python3.7/dist-packages (from tensorflow) (2.6.0)\n",
            "Requirement already satisfied: h5py~=3.1.0 in /usr/local/lib/python3.7/dist-packages (from tensorflow) (3.1.0)\n",
            "Requirement already satisfied: opt-einsum~=3.3.0 in /usr/local/lib/python3.7/dist-packages (from tensorflow) (3.3.0)\n",
            "Requirement already satisfied: grpcio<2.0,>=1.37.0 in /usr/local/lib/python3.7/dist-packages (from tensorflow) (1.39.0)\n",
            "Requirement already satisfied: tensorboard~=2.6 in /usr/local/lib/python3.7/dist-packages (from tensorflow) (2.6.0)\n",
            "Requirement already satisfied: wheel~=0.35 in /usr/local/lib/python3.7/dist-packages (from tensorflow) (0.37.0)\n",
            "Requirement already satisfied: keras-preprocessing~=1.1.2 in /usr/local/lib/python3.7/dist-packages (from tensorflow) (1.1.2)\n",
            "Requirement already satisfied: numpy~=1.19.2 in /usr/local/lib/python3.7/dist-packages (from tensorflow) (1.19.5)\n",
            "Requirement already satisfied: gast==0.4.0 in /usr/local/lib/python3.7/dist-packages (from tensorflow) (0.4.0)\n",
            "Requirement already satisfied: astunparse~=1.6.3 in /usr/local/lib/python3.7/dist-packages (from tensorflow) (1.6.3)\n",
            "Requirement already satisfied: cached-property in /usr/local/lib/python3.7/dist-packages (from h5py~=3.1.0->tensorflow) (1.5.2)\n",
            "Requirement already satisfied: tensorboard-plugin-wit>=1.6.0 in /usr/local/lib/python3.7/dist-packages (from tensorboard~=2.6->tensorflow) (1.8.0)\n",
            "Requirement already satisfied: requests<3,>=2.21.0 in /usr/local/lib/python3.7/dist-packages (from tensorboard~=2.6->tensorflow) (2.23.0)\n",
            "Requirement already satisfied: markdown>=2.6.8 in /usr/local/lib/python3.7/dist-packages (from tensorboard~=2.6->tensorflow) (3.3.4)\n",
            "Requirement already satisfied: setuptools>=41.0.0 in /usr/local/lib/python3.7/dist-packages (from tensorboard~=2.6->tensorflow) (57.4.0)\n",
            "Requirement already satisfied: tensorboard-data-server<0.7.0,>=0.6.0 in /usr/local/lib/python3.7/dist-packages (from tensorboard~=2.6->tensorflow) (0.6.1)\n",
            "Requirement already satisfied: werkzeug>=0.11.15 in /usr/local/lib/python3.7/dist-packages (from tensorboard~=2.6->tensorflow) (1.0.1)\n",
            "Requirement already satisfied: google-auth-oauthlib<0.5,>=0.4.1 in /usr/local/lib/python3.7/dist-packages (from tensorboard~=2.6->tensorflow) (0.4.5)\n",
            "Requirement already satisfied: google-auth<2,>=1.6.3 in /usr/local/lib/python3.7/dist-packages (from tensorboard~=2.6->tensorflow) (1.34.0)\n",
            "Requirement already satisfied: pyasn1-modules>=0.2.1 in /usr/local/lib/python3.7/dist-packages (from google-auth<2,>=1.6.3->tensorboard~=2.6->tensorflow) (0.2.8)\n",
            "Requirement already satisfied: cachetools<5.0,>=2.0.0 in /usr/local/lib/python3.7/dist-packages (from google-auth<2,>=1.6.3->tensorboard~=2.6->tensorflow) (4.2.2)\n",
            "Requirement already satisfied: rsa<5,>=3.1.4 in /usr/local/lib/python3.7/dist-packages (from google-auth<2,>=1.6.3->tensorboard~=2.6->tensorflow) (4.7.2)\n",
            "Requirement already satisfied: requests-oauthlib>=0.7.0 in /usr/local/lib/python3.7/dist-packages (from google-auth-oauthlib<0.5,>=0.4.1->tensorboard~=2.6->tensorflow) (1.3.0)\n",
            "Requirement already satisfied: importlib-metadata in /usr/local/lib/python3.7/dist-packages (from markdown>=2.6.8->tensorboard~=2.6->tensorflow) (4.6.4)\n",
            "Requirement already satisfied: pyasn1<0.5.0,>=0.4.6 in /usr/local/lib/python3.7/dist-packages (from pyasn1-modules>=0.2.1->google-auth<2,>=1.6.3->tensorboard~=2.6->tensorflow) (0.4.8)\n",
            "Requirement already satisfied: certifi>=2017.4.17 in /usr/local/lib/python3.7/dist-packages (from requests<3,>=2.21.0->tensorboard~=2.6->tensorflow) (2021.5.30)\n",
            "Requirement already satisfied: chardet<4,>=3.0.2 in /usr/local/lib/python3.7/dist-packages (from requests<3,>=2.21.0->tensorboard~=2.6->tensorflow) (3.0.4)\n",
            "Requirement already satisfied: idna<3,>=2.5 in /usr/local/lib/python3.7/dist-packages (from requests<3,>=2.21.0->tensorboard~=2.6->tensorflow) (2.10)\n",
            "Requirement already satisfied: urllib3!=1.25.0,!=1.25.1,<1.26,>=1.21.1 in /usr/local/lib/python3.7/dist-packages (from requests<3,>=2.21.0->tensorboard~=2.6->tensorflow) (1.24.3)\n",
            "Requirement already satisfied: oauthlib>=3.0.0 in /usr/local/lib/python3.7/dist-packages (from requests-oauthlib>=0.7.0->google-auth-oauthlib<0.5,>=0.4.1->tensorboard~=2.6->tensorflow) (3.1.1)\n",
            "Requirement already satisfied: zipp>=0.5 in /usr/local/lib/python3.7/dist-packages (from importlib-metadata->markdown>=2.6.8->tensorboard~=2.6->tensorflow) (3.5.0)\n"
          ]
        }
      ]
    },
    {
      "cell_type": "code",
      "metadata": {
        "id": "BdS-_L0O9Kvf"
      },
      "source": [
        "import tensorflow as tf\n",
        "from transformers import GPT2LMHeadModel, GPT2Tokenizer"
      ],
      "execution_count": null,
      "outputs": []
    },
    {
      "cell_type": "markdown",
      "metadata": {
        "id": "ArK1oDh79ViD"
      },
      "source": [
        "**1. Load model**"
      ]
    },
    {
      "cell_type": "code",
      "metadata": {
        "id": "VMVsXrXQ9Zh-"
      },
      "source": [
        "tokenizer= GPT2Tokenizer.from_pretrained('gpt2-large')"
      ],
      "execution_count": null,
      "outputs": []
    },
    {
      "cell_type": "code",
      "metadata": {
        "id": "7HTpc1q99iPP"
      },
      "source": [
        "model=GPT2LMHeadModel.from_pretrained('gpt2-large', pad_token_id=tokenizer.eos_token_id)"
      ],
      "execution_count": null,
      "outputs": []
    },
    {
      "cell_type": "code",
      "metadata": {
        "colab": {
          "base_uri": "https://localhost:8080/"
        },
        "id": "6FgJ8pxT9v9i",
        "outputId": "dcde796d-5f2b-4d64-9dea-766baf4cea4e"
      },
      "source": [
        "tokenizer.eos_token_id"
      ],
      "execution_count": null,
      "outputs": [
        {
          "output_type": "execute_result",
          "data": {
            "text/plain": [
              "50256"
            ]
          },
          "metadata": {},
          "execution_count": 26
        }
      ]
    },
    {
      "cell_type": "code",
      "metadata": {
        "colab": {
          "base_uri": "https://localhost:8080/",
          "height": 35
        },
        "id": "gfmgsd5L971x",
        "outputId": "697c2731-8e82-478a-8825-2515c139e13e"
      },
      "source": [
        "tokenizer.decode(tokenizer.eos_token_id)"
      ],
      "execution_count": null,
      "outputs": [
        {
          "output_type": "execute_result",
          "data": {
            "application/vnd.google.colaboratory.intrinsic+json": {
              "type": "string"
            },
            "text/plain": [
              "'<|endoftext|>'"
            ]
          },
          "metadata": {},
          "execution_count": 27
        }
      ]
    },
    {
      "cell_type": "markdown",
      "metadata": {
        "id": "ZVn_0df6-WW6"
      },
      "source": [
        "**2. Tokenize the sentence**"
      ]
    },
    {
      "cell_type": "code",
      "metadata": {
        "id": "-AAjHpR2-aQB"
      },
      "source": [
        "sentence='As A.I. has become increasingly human-like'"
      ],
      "execution_count": null,
      "outputs": []
    },
    {
      "cell_type": "code",
      "metadata": {
        "id": "6qyhevQO-oe1"
      },
      "source": [
        "input_ids=tokenizer.encode(sentence,return_tensors='pt')"
      ],
      "execution_count": null,
      "outputs": []
    },
    {
      "cell_type": "code",
      "metadata": {
        "colab": {
          "base_uri": "https://localhost:8080/"
        },
        "id": "5exx2mBU-y1l",
        "outputId": "2fc56fd7-c028-4bdf-db37-c0c600439dce"
      },
      "source": [
        "input_ids"
      ],
      "execution_count": null,
      "outputs": [
        {
          "output_type": "execute_result",
          "data": {
            "text/plain": [
              "tensor([[1722,  317,   13,   40,   13,  468, 1716, 6481, 1692,   12, 2339]])"
            ]
          },
          "metadata": {},
          "execution_count": 30
        }
      ]
    },
    {
      "cell_type": "code",
      "metadata": {
        "colab": {
          "base_uri": "https://localhost:8080/",
          "height": 35
        },
        "id": "A1rKwXZ1-4sE",
        "outputId": "4bdec2ae-8b12-49c0-b742-d160e2eb35fb"
      },
      "source": [
        "tokenizer.decode(input_ids[0])"
      ],
      "execution_count": null,
      "outputs": [
        {
          "output_type": "execute_result",
          "data": {
            "application/vnd.google.colaboratory.intrinsic+json": {
              "type": "string"
            },
            "text/plain": [
              "'As A.I. has become increasingly human-like'"
            ]
          },
          "metadata": {},
          "execution_count": 31
        }
      ]
    },
    {
      "cell_type": "code",
      "metadata": {
        "id": "eqf36RTo_C7u"
      },
      "source": [
        "output=model.generate(input_ids,min_length=500,max_length=500,num_beams=5,no_repeat_ngram_size=2,early_stopping=True)"
      ],
      "execution_count": null,
      "outputs": []
    },
    {
      "cell_type": "code",
      "metadata": {
        "colab": {
          "base_uri": "https://localhost:8080/"
        },
        "id": "qtCwD8eZ_YG-",
        "outputId": "1986fda8-57cd-4db5-e53d-7aa56b275245"
      },
      "source": [
        "output"
      ],
      "execution_count": null,
      "outputs": [
        {
          "output_type": "execute_result",
          "data": {
            "text/plain": [
              "tensor([[ 1722,   317,    13,    40,    13,   468,  1716,  6481,  1692,    12,\n",
              "          2339,    11,   523,  1165,   468,   262,   835,   356,  9427,   351,\n",
              "           340,    13,   198,   198,   818,   262,  1613,  1178,   812,    11,\n",
              "           356,  1053,  1775,   262,  4485,   286, 11666,  4430,   357, 20185,\n",
              "             8,   290,  4572,  4673,   357,  5805,   828,  1111,   286,   543,\n",
              "           423,   262,  2785,   284,  5854,  1096,   703,   356,   670,   290,\n",
              "          2107,    13,   554,   428,  2708,    11,   314,  1183,  1011,   257,\n",
              "           804,   379,   617,   286,   262,  2842,   287,   543,  9552,   290,\n",
              "         10373,   460,   307,   973,   284,  2987,   262,  3160,   286,   661,\n",
              "          1088,   262,   995,    11,   290,   703,   345,   460,  1011,  4621,\n",
              "           286,   777,   649,  8514,   284,   787,   257,  3580,   287,   534,\n",
              "           898,  1204,    13,   628,   198,    16,    13,  9552,   460,  1037,\n",
              "           345,   787,  1365,  5370,    13,  1649,   340,  2058,   284,  1642,\n",
              "          5370,    11,   612,   389,   734,  1388,  3858,   286,  2551,    12,\n",
              "          8601,    25, 10870,   290,  1729,    12,    66, 46610,    13, 38655,\n",
              "          5370,   389,   883,   326,   389,  1912,   319,  9156,   290, 14607,\n",
              "            13,  8504,    12,    34, 46610,  5370,  8814,   517,   319, 12500,\n",
              "         13311,   290, 31563,    13,  1114,  1672,    11,   611,   345,   821,\n",
              "          5059,   866,   262,  2975,   290,   345,   766,   257,  1097,  2406,\n",
              "          3371,   345,    11,   345,  1244,   307,   517,  1884,   284,  2834,\n",
              "           625,   290,  4043,   329,   262,  1097,   284,  1208,   878,  1642,\n",
              "           257,  2551,   546,  1771,   393,   407,   284,  1509,  3760,   656,\n",
              "           262,   319,  4976, 11193,   284,  3368,   262, 17661,    13,   770,\n",
              "           318,   257, 10870,  2551,    11,   475,   340,   338,   407,   257,\n",
              "           845,   922,   530,    11,   780,   340, 16507,   319,   257,  1256,\n",
              "           286,  1321,   326,   345,   836,   470,   423,  1895,   284,   379,\n",
              "           262,   640,    13,  1550,   262,   584,  1021,    11,   281,  9552,\n",
              "          2551,   318,   530,   326,   318,  1912,  5000,   319,  1366,    13,\n",
              "          1002,   345,   423,   257,  3644,  1430,   326,   460,  1100,   534,\n",
              "          2000,   290,  4331,   644,   345,  1183,   466,  1306,    11,   788,\n",
              "           340,   460,   787,   922,  5370,   329,   345,    13,   383,  1917,\n",
              "           351,   428,   318,   326,   340,  1595,   470,  1011,   656,  1848,\n",
              "           477,   262,  5087,   326,  4588,   534,  2551,  1642,    11,   884,\n",
              "           355,   534, 10825,    11,   534,  1613,  6461,    11,   393,   534,\n",
              "          1459,  1181,   286,  2000,    13,  1081,   257,  1255,    11,   340,\n",
              "           743,   407,   307,   355,  7187,   355,   345,  1549,   588,   340,\n",
              "           284,   307,    13,   317,   922,  1672,   286,   428,  2099,   286,\n",
              "          9552,   318,  3012,   338, 12995,  5247,    11,   543,  9772,   262,\n",
              "          1266,  1692,  2137,   287,   262,  2106,   286,  1514,    11,  5741,\n",
              "         22710,   349,    11,   287,   257,  2872,   326, 15436,   517,   621,\n",
              "          1936,  2250,    13,  2102,    11,   262,  9552,   373,   691,  1498,\n",
              "           284,  4405,  5741,   416,   257,  2060,  1445,    13,   632,   338,\n",
              "          1593,   284,  3465,   326,   428,  2125,   470,   262,   717,   640,\n",
              "           326,   257,  4572,   468, 13125,   257,  1692,   379,   257,   983,\n",
              "            13,  5157,   287,  4343,    11, 19764,   338, 10766,  4518,  4405,\n",
              "         19780,  4490,  9866, 45354, 15035,  1845,   709,    11,   508,   373,\n",
              "          3177,   262,  6000, 19780,  2137,   286,   477,   640,    11,   416,\n",
              "         11226,   683,   416,   655,   257,  1178,  6100,    13,  2893,   428,\n",
              "           743,  1283,   588,   257,   890,   640,  2084,   287,  2846,   286,\n",
              "          1692, 19780,  2106,    11,  9061,   423,   587, 11226,  5384,   379]])"
            ]
          },
          "metadata": {},
          "execution_count": 33
        }
      ]
    },
    {
      "cell_type": "code",
      "metadata": {
        "colab": {
          "base_uri": "https://localhost:8080/"
        },
        "id": "39NhuvkqBdWt",
        "outputId": "bb982b67-e1c1-4039-dbec-8e51e3cd41f8"
      },
      "source": [
        "len(output[0])"
      ],
      "execution_count": null,
      "outputs": [
        {
          "output_type": "execute_result",
          "data": {
            "text/plain": [
              "500"
            ]
          },
          "metadata": {},
          "execution_count": 34
        }
      ]
    },
    {
      "cell_type": "code",
      "metadata": {
        "colab": {
          "base_uri": "https://localhost:8080/",
          "height": 440
        },
        "id": "nqx-G_G6BiVW",
        "outputId": "5097939f-c17c-4581-9f18-6cf3565c138c"
      },
      "source": [
        "tokenizer.decode(output[0],skip_special_tokens=True)"
      ],
      "execution_count": null,
      "outputs": [
        {
          "output_type": "execute_result",
          "data": {
            "application/vnd.google.colaboratory.intrinsic+json": {
              "type": "string"
            },
            "text/plain": [
              "\"As A.I. has become increasingly human-like, so too has the way we interact with it.\\n\\nIn the past few years, we've seen the rise of artificial intelligence (AI) and machine learning (ML), both of which have the potential to revolutionize how we work and live. In this article, I'll take a look at some of the ways in which AI and ML can be used to improve the lives of people around the world, and how you can take advantage of these new technologies to make a difference in your own life.\\n\\n\\n1. AI can help you make better decisions. When it comes to making decisions, there are two main types of decision-making: cognitive and non-cognitive. Cognitive decisions are those that are based on logic and reasoning. Non-Cognitive decisions rely more on gut instinct and intuition. For example, if you're driving down the road and you see a car coming towards you, you might be more likely to pull over and wait for the car to pass before making a decision about whether or not to swerve into the oncoming lane to avoid the collision. This is a cognitive decision, but it's not a very good one, because it relies on a lot of information that you don't have access to at the time. On the other hand, an AI decision is one that is based entirely on data. If you have a computer program that can read your mind and predict what you'll do next, then it can make good decisions for you. The problem with this is that it doesn't take into account all the factors that influence your decision making, such as your emotions, your past experiences, or your current state of mind. As a result, it may not be as accurate as you'd like it to be. A good example of this type of AI is Google's AlphaGo, which defeated the best human player in the history of Go, Lee Sedol, in a match that lasted more than five hours. However, the AI was only able to beat Lee by a single move. It's important to note that this isn't the first time that a machine has beaten a human at a game. Back in 2007, IBM's Deep Blue beat chess grandmaster Garry Kasparov, who was considered the greatest chess player of all time, by beating him by just a few moves. While this may seem like a long time ago in terms of human chess history, computers have been beating humans at\""
            ]
          },
          "metadata": {},
          "execution_count": 35
        }
      ]
    },
    {
      "cell_type": "markdown",
      "metadata": {
        "id": "RYQUyisqCJ6W"
      },
      "source": [
        "**4. output result**"
      ]
    },
    {
      "cell_type": "code",
      "metadata": {
        "id": "mhHQvu7mCPMD"
      },
      "source": [
        "text=tokenizer.decode(output[0],skip_special_tokens=True)"
      ],
      "execution_count": null,
      "outputs": []
    },
    {
      "cell_type": "code",
      "metadata": {
        "id": "VDuLMgK_CWiG"
      },
      "source": [
        "with open('myAIBlogPost.txt','w') as f:\n",
        "  f.write(text)"
      ],
      "execution_count": null,
      "outputs": []
    },
    {
      "cell_type": "code",
      "metadata": {
        "id": "xTBJGQEYCkKd"
      },
      "source": [
        ""
      ],
      "execution_count": null,
      "outputs": []
    }
  ]
}